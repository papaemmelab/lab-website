{
 "cells": [
  {
   "cell_type": "code",
   "execution_count": 1,
   "id": "c4932156-401c-4cb2-b41e-06bf4f7d0c46",
   "metadata": {},
   "outputs": [
    {
     "name": "stdout",
     "output_type": "stream",
     "text": [
      "Requirement already satisfied: beautifulsoup4 in /Users/arangooj/.virtualenvs/jupyter/lib/python3.11/site-packages (4.12.2)\n",
      "Requirement already satisfied: soupsieve>1.2 in /Users/arangooj/.virtualenvs/jupyter/lib/python3.11/site-packages (from beautifulsoup4) (2.4.1)\n"
     ]
    }
   ],
   "source": [
    "!pip install beautifulsoup4"
   ]
  },
  {
   "cell_type": "code",
   "execution_count": 116,
   "id": "10eaecc7-9489-4b36-9d24-24110100059c",
   "metadata": {
    "scrolled": true
   },
   "outputs": [],
   "source": [
    "import requests\n",
    "import textwrap\n",
    "import re\n",
    "\n",
    "from bs4 import BeautifulSoup\n",
    "from IPython.display import Image, display"
   ]
  },
  {
   "cell_type": "code",
   "execution_count": 167,
   "id": "3ac30969-1c4a-435b-8ddf-c483405b2260",
   "metadata": {},
   "outputs": [
    {
     "name": "stdout",
     "output_type": "stream",
     "text": [
      "Juan E. Arango-Ossa\n",
      "Bioinformatics Engineer III\n"
     ]
    },
    {
     "data": {
      "text/html": [
       "<img src=\"https://www.mskcc.org/sites/default/files/styles/width_200_1x1/public/node/150292/main_image/arango-ossa-juan_190905_06_0.jpg?h=242cd5c8\" width=\"100\" height=\"100\"/>"
      ],
      "text/plain": [
       "<IPython.core.display.Image object>"
      ]
     },
     "metadata": {},
     "output_type": "display_data"
    },
    {
     "name": "stdout",
     "output_type": "stream",
     "text": [
      "Georgios Asimomitis\n",
      "Computational Biologist II\n"
     ]
    },
    {
     "data": {
      "text/html": [
       "<img src=\"https://www.mskcc.org/sites/default/files/styles/width_200_1x1/public/node/207442/main_image/asimomitis-georgios_190905_09.jpg?h=242cd5c8\" width=\"100\" height=\"100\"/>"
      ],
      "text/plain": [
       "<IPython.core.display.Image object>"
      ]
     },
     "metadata": {},
     "output_type": "display_data"
    },
    {
     "name": "stdout",
     "output_type": "stream",
     "text": [
      "Elsa Bernard\n",
      "Research fellow\n"
     ]
    },
    {
     "data": {
      "text/html": [
       "<img src=\"https://www.mskcc.org/sites/default/files/styles/width_200_1x1/public/node/160627/3x2/bernard_170926_03_1200x800.jpg?h=10d202d3\" width=\"100\" height=\"100\"/>"
      ],
      "text/plain": [
       "<IPython.core.display.Image object>"
      ]
     },
     "metadata": {},
     "output_type": "display_data"
    },
    {
     "name": "stdout",
     "output_type": "stream",
     "text": [
      "Charlotte Brierley\n",
      "Graduate Research Assistant\n"
     ]
    },
    {
     "data": {
      "text/html": [
       "<img src=\"https://www.mskcc.org/sites/default/files/styles/width_200_1x1/public/node/244270/main_image/brierley-charlotte-220405-13_1200x800.jpg\" width=\"100\" height=\"100\"/>"
      ],
      "text/plain": [
       "<IPython.core.display.Image object>"
      ]
     },
     "metadata": {},
     "output_type": "display_data"
    },
    {
     "name": "stdout",
     "output_type": "stream",
     "text": [
      "Dylan Domenico\n",
      "Bioinformatics Engineer I\n"
     ]
    },
    {
     "data": {
      "text/html": [
       "<img src=\"https://www.mskcc.org/sites/default/files/styles/width_200_1x1/public/node/211855/main_image/domenicao-dylan_210519_06-1200x800.jpg\" width=\"100\" height=\"100\"/>"
      ],
      "text/plain": [
       "<IPython.core.display.Image object>"
      ]
     },
     "metadata": {},
     "output_type": "display_data"
    },
    {
     "name": "stdout",
     "output_type": "stream",
     "text": [
      "Gunes Gundem\n",
      "Senior Research Scientist\n"
     ]
    },
    {
     "data": {
      "text/html": [
       "<img src=\"https://www.mskcc.org/sites/default/files/styles/width_200_1x1/public/node/39615/3x2/gundem_170926_01_1200x800.jpg?h=10d202d3\" width=\"100\" height=\"100\"/>"
      ],
      "text/plain": [
       "<IPython.core.display.Image object>"
      ]
     },
     "metadata": {},
     "output_type": "display_data"
    },
    {
     "name": "stdout",
     "output_type": "stream",
     "text": [
      "Jesus Gutierrez-Abril\n",
      "Research Fellow\n"
     ]
    },
    {
     "data": {
      "text/html": [
       "<img src=\"https://www.mskcc.org/sites/default/files/styles/width_200_1x1/public/node/207445/main_image/gutierrez-abril-jesus_190905_06.jpg?h=242cd5c8\" width=\"100\" height=\"100\"/>"
      ],
      "text/plain": [
       "<IPython.core.display.Image object>"
      ]
     },
     "metadata": {},
     "output_type": "display_data"
    },
    {
     "name": "stdout",
     "output_type": "stream",
     "text": [
      "Max Levine\n",
      "Senior Computational Biologist I\n"
     ]
    },
    {
     "data": {
      "text/html": [
       "<img src=\"https://www.mskcc.org/sites/default/files/styles/width_200_1x1/public/node/150283/3x2/levine_170926_08_1200x800.jpg?h=10d202d3\" width=\"100\" height=\"100\"/>"
      ],
      "text/plain": [
       "<IPython.core.display.Image object>"
      ]
     },
     "metadata": {},
     "output_type": "display_data"
    },
    {
     "name": "stdout",
     "output_type": "stream",
     "text": [
      "Konstantinos Liosis\n",
      "Bioinformatics Engineer I\n"
     ]
    },
    {
     "data": {
      "text/html": [
       "<img src=\"https://www.mskcc.org/sites/default/files/styles/width_200_1x1/public/node/244387/main_image/liosis-konstantinos-220310-016_1200x800.jpg?h=10d202d3\" width=\"100\" height=\"100\"/>"
      ],
      "text/plain": [
       "<IPython.core.display.Image object>"
      ]
     },
     "metadata": {},
     "output_type": "display_data"
    },
    {
     "name": "stdout",
     "output_type": "stream",
     "text": [
      "Joseph G. McCarter\n",
      "Computational Biologist, Sr I\n"
     ]
    },
    {
     "data": {
      "text/html": [
       "<img src=\"https://www.mskcc.org/sites/default/files/styles/width_200_1x1/public/node/161449/3x2/mccarter_joseph_180611_09_1200x800.jpg?h=10d202d3\" width=\"100\" height=\"100\"/>"
      ],
      "text/plain": [
       "<IPython.core.display.Image object>"
      ]
     },
     "metadata": {},
     "output_type": "display_data"
    },
    {
     "name": "stdout",
     "output_type": "stream",
     "text": [
      "Genesis Pineda\n",
      "Administrative Assistant\n"
     ]
    },
    {
     "data": {
      "text/html": [
       "<img src=\"https://www.mskcc.org/sites/default/files/styles/width_200_1x1/public/node/236362/main_image/pineda-genesis-220405-07_1200x800.jpg?h=10d202d3\" width=\"100\" height=\"100\"/>"
      ],
      "text/plain": [
       "<IPython.core.display.Image object>"
      ]
     },
     "metadata": {},
     "output_type": "display_data"
    },
    {
     "name": "stdout",
     "output_type": "stream",
     "text": [
      "Noushin Rahnamay Farnoud\n",
      "Computational Biologist, Sr II\n"
     ]
    },
    {
     "data": {
      "text/html": [
       "<img src=\"https://www.mskcc.org/sites/default/files/styles/width_200_1x1/public/node/150415/3x2/farnoud_130612_02_1200x800.jpg?h=10d202d3\" width=\"100\" height=\"100\"/>"
      ],
      "text/plain": [
       "<IPython.core.display.Image object>"
      ]
     },
     "metadata": {},
     "output_type": "display_data"
    },
    {
     "name": "stdout",
     "output_type": "stream",
     "text": [
      "Jake Sauter\n",
      "WCM Graduate Student\n"
     ]
    },
    {
     "data": {
      "text/html": [
       "<img src=\"https://www.mskcc.org/sites/default/files/styles/width_200_1x1/public/node/226393/main_image/jake_sauter_profile_pic.jpg\" width=\"100\" height=\"100\"/>"
      ],
      "text/plain": [
       "<IPython.core.display.Image object>"
      ]
     },
     "metadata": {},
     "output_type": "display_data"
    },
    {
     "name": "stdout",
     "output_type": "stream",
     "text": [
      "Sarun Sereewattanawoot\n",
      "Research Fellow\n"
     ]
    },
    {
     "data": {
      "text/html": [
       "<img src=\"https://www.mskcc.org/sites/default/files/styles/width_200_1x1/public/node/225859/main_image/sereewattanawoot-sarun_210519_07-1200x800.jpg?h=10d202d3\" width=\"100\" height=\"100\"/>"
      ],
      "text/plain": [
       "<IPython.core.display.Image object>"
      ]
     },
     "metadata": {},
     "output_type": "display_data"
    },
    {
     "name": "stdout",
     "output_type": "stream",
     "text": [
      "Yanis Tazi\n",
      "Graduate Student, Tri-I Institutional PhD Program\n"
     ]
    },
    {
     "data": {
      "text/html": [
       "<img src=\"https://www.mskcc.org/sites/default/files/styles/width_200_1x1/public/node/207454/main_image/33200958.jpeg\" width=\"100\" height=\"100\"/>"
      ],
      "text/plain": [
       "<IPython.core.display.Image object>"
      ]
     },
     "metadata": {},
     "output_type": "display_data"
    }
   ],
   "source": [
    "url = \"https://www.mskcc.org/research-areas/labs/elli-papaemmanuil\"\n",
    "response = requests.get(url)\n",
    "soup = BeautifulSoup(response.text, \"html.parser\")\n",
    "\n",
    "active = []\n",
    "elements = soup.find(\"div\", class_=\"thumbnail-grid\").find_all(\"figure\")\n",
    "for el in elements:\n",
    "    name = el.find(\"a\").text.strip()\n",
    "    description = el.find(\"p\").text.strip()\n",
    "    image = el.find(\"img\")[\"src\"]\n",
    "    print(name)\n",
    "    print(description)\n",
    "    display(Image(url= image, width=100, height=100))\n",
    "    \n",
    "    active.append(name)"
   ]
  },
  {
   "cell_type": "code",
   "execution_count": 168,
   "id": "68805aef-be73-4d08-a51b-dcfedacf3620",
   "metadata": {},
   "outputs": [],
   "source": [
    "def get_bio(link):\n",
    "    \"\"\"Get member bio from personal member page.\"\"\"\n",
    "    if not link:\n",
    "        return []\n",
    "    url = f\"https://mskcc.org{link}\"\n",
    "    print(f\"Getting info from {url}\")\n",
    "    response = requests.get(url)\n",
    "    soup = BeautifulSoup(response.text, \"html.parser\")\n",
    "    return [el.text.strip() for el in soup.find(\"main\").find_all(\"p\")]"
   ]
  },
  {
   "cell_type": "code",
   "execution_count": 175,
   "id": "6e2ca0d8-fa44-4bfb-99a9-389cbab903fe",
   "metadata": {},
   "outputs": [
    {
     "name": "stdout",
     "output_type": "stream",
     "text": [
      "Juan E. Arango-Ossa\n",
      "Bioinformatics Engineer III\n",
      "/research-areas/labs/members/juan-arango-ossa\n"
     ]
    },
    {
     "data": {
      "text/html": [
       "<img src=\"https://www.mskcc.org/sites/default/files/styles/width_200_1x1/public/node/150292/main_image/arango-ossa-juan_190905_06_0.jpg?h=242cd5c8\" width=\"100\" height=\"100\"/>"
      ],
      "text/plain": [
       "<IPython.core.display.Image object>"
      ]
     },
     "metadata": {},
     "output_type": "display_data"
    },
    {
     "name": "stdout",
     "output_type": "stream",
     "text": [
      "Georgios Asimomitis\n",
      "Computational Biologist II\n",
      "/research-areas/labs/members/georgios-asimomitis\n"
     ]
    },
    {
     "data": {
      "text/html": [
       "<img src=\"https://www.mskcc.org/sites/default/files/styles/width_200_1x1/public/node/207442/main_image/asimomitis-georgios_190905_09.jpg?h=242cd5c8\" width=\"100\" height=\"100\"/>"
      ],
      "text/plain": [
       "<IPython.core.display.Image object>"
      ]
     },
     "metadata": {},
     "output_type": "display_data"
    },
    {
     "name": "stdout",
     "output_type": "stream",
     "text": [
      "Elsa Bernard, PhD\n",
      "Research fellow\n",
      "/research-areas/labs/members/elsa-bernard\n"
     ]
    },
    {
     "data": {
      "text/html": [
       "<img src=\"https://www.mskcc.org/sites/default/files/styles/width_200_1x1/public/node/160627/3x2/bernard_170926_03_1200x800.jpg?h=10d202d3\" width=\"100\" height=\"100\"/>"
      ],
      "text/plain": [
       "<IPython.core.display.Image object>"
      ]
     },
     "metadata": {},
     "output_type": "display_data"
    },
    {
     "name": "stdout",
     "output_type": "stream",
     "text": [
      "Charlotte Brierley\n",
      "Graduate Research Assistant\n",
      "None\n"
     ]
    },
    {
     "data": {
      "text/html": [
       "<img src=\"https://www.mskcc.org/sites/default/files/styles/width_200_1x1/public/node/244270/main_image/brierley-charlotte-220405-13_1200x800.jpg\" width=\"100\" height=\"100\"/>"
      ],
      "text/plain": [
       "<IPython.core.display.Image object>"
      ]
     },
     "metadata": {},
     "output_type": "display_data"
    },
    {
     "name": "stdout",
     "output_type": "stream",
     "text": [
      "Dylan Domenico\n",
      "Bioinformatics Engineer I\n",
      "/research-areas/labs/members/dylan-domenico\n"
     ]
    },
    {
     "data": {
      "text/html": [
       "<img src=\"https://www.mskcc.org/sites/default/files/styles/width_200_1x1/public/node/211855/main_image/domenicao-dylan_210519_06-1200x800.jpg\" width=\"100\" height=\"100\"/>"
      ],
      "text/plain": [
       "<IPython.core.display.Image object>"
      ]
     },
     "metadata": {},
     "output_type": "display_data"
    },
    {
     "name": "stdout",
     "output_type": "stream",
     "text": [
      "Gunes Gundem\n",
      "Senior Research Scientist\n",
      "/research-areas/labs/members/gunes-gundem\n"
     ]
    },
    {
     "data": {
      "text/html": [
       "<img src=\"https://www.mskcc.org/sites/default/files/styles/width_200_1x1/public/node/39615/3x2/gundem_170926_01_1200x800.jpg?h=10d202d3\" width=\"100\" height=\"100\"/>"
      ],
      "text/plain": [
       "<IPython.core.display.Image object>"
      ]
     },
     "metadata": {},
     "output_type": "display_data"
    },
    {
     "name": "stdout",
     "output_type": "stream",
     "text": [
      "Jesus Gutierrez-Abril\n",
      "Research Fellow\n",
      "/research-areas/labs/members/jesus-gutierrez-abril\n"
     ]
    },
    {
     "data": {
      "text/html": [
       "<img src=\"https://www.mskcc.org/sites/default/files/styles/width_200_1x1/public/node/207445/main_image/gutierrez-abril-jesus_190905_06.jpg?h=242cd5c8\" width=\"100\" height=\"100\"/>"
      ],
      "text/plain": [
       "<IPython.core.display.Image object>"
      ]
     },
     "metadata": {},
     "output_type": "display_data"
    },
    {
     "name": "stdout",
     "output_type": "stream",
     "text": [
      "Max Levine\n",
      "Senior Computational Biologist I\n",
      "/research-areas/labs/members/max-levine\n"
     ]
    },
    {
     "data": {
      "text/html": [
       "<img src=\"https://www.mskcc.org/sites/default/files/styles/width_200_1x1/public/node/150283/3x2/levine_170926_08_1200x800.jpg?h=10d202d3\" width=\"100\" height=\"100\"/>"
      ],
      "text/plain": [
       "<IPython.core.display.Image object>"
      ]
     },
     "metadata": {},
     "output_type": "display_data"
    },
    {
     "name": "stdout",
     "output_type": "stream",
     "text": [
      "Konstantinos Liosis\n",
      "Bioinformatics Engineer I\n",
      "None\n"
     ]
    },
    {
     "data": {
      "text/html": [
       "<img src=\"https://www.mskcc.org/sites/default/files/styles/width_200_1x1/public/node/244387/main_image/liosis-konstantinos-220310-016_1200x800.jpg?h=10d202d3\" width=\"100\" height=\"100\"/>"
      ],
      "text/plain": [
       "<IPython.core.display.Image object>"
      ]
     },
     "metadata": {},
     "output_type": "display_data"
    },
    {
     "name": "stdout",
     "output_type": "stream",
     "text": [
      "Joseph G. McCarter\n",
      "Computational Biologist, Sr I\n",
      "/research-areas/labs/members/joseph-mccarter\n"
     ]
    },
    {
     "data": {
      "text/html": [
       "<img src=\"https://www.mskcc.org/sites/default/files/styles/width_200_1x1/public/node/161449/3x2/mccarter_joseph_180611_09_1200x800.jpg?h=10d202d3\" width=\"100\" height=\"100\"/>"
      ],
      "text/plain": [
       "<IPython.core.display.Image object>"
      ]
     },
     "metadata": {},
     "output_type": "display_data"
    },
    {
     "name": "stdout",
     "output_type": "stream",
     "text": [
      "Genesis Pineda\n",
      "Administrative Assistant\n",
      "None\n"
     ]
    },
    {
     "data": {
      "text/html": [
       "<img src=\"https://www.mskcc.org/sites/default/files/styles/width_200_1x1/public/node/236362/main_image/pineda-genesis-220405-07_1200x800.jpg?h=10d202d3\" width=\"100\" height=\"100\"/>"
      ],
      "text/plain": [
       "<IPython.core.display.Image object>"
      ]
     },
     "metadata": {},
     "output_type": "display_data"
    },
    {
     "name": "stdout",
     "output_type": "stream",
     "text": [
      "Noushin Rahnamay Farnoud\n",
      "Computational Biologist, Sr II\n",
      "/research-areas/labs/members/noushin-rahnamay-farnoud-01\n"
     ]
    },
    {
     "data": {
      "text/html": [
       "<img src=\"https://www.mskcc.org/sites/default/files/styles/width_200_1x1/public/node/150415/3x2/farnoud_130612_02_1200x800.jpg?h=10d202d3\" width=\"100\" height=\"100\"/>"
      ],
      "text/plain": [
       "<IPython.core.display.Image object>"
      ]
     },
     "metadata": {},
     "output_type": "display_data"
    },
    {
     "name": "stdout",
     "output_type": "stream",
     "text": [
      "Jake Sauter\n",
      "WCM Graduate Student\n",
      "/research-areas/labs/members/jake-sauter\n"
     ]
    },
    {
     "data": {
      "text/html": [
       "<img src=\"https://www.mskcc.org/sites/default/files/styles/width_200_1x1/public/node/226393/main_image/jake_sauter_profile_pic.jpg\" width=\"100\" height=\"100\"/>"
      ],
      "text/plain": [
       "<IPython.core.display.Image object>"
      ]
     },
     "metadata": {},
     "output_type": "display_data"
    },
    {
     "name": "stdout",
     "output_type": "stream",
     "text": [
      "Sarun Sereewattanawoot\n",
      "Research Fellow\n",
      "/research-areas/labs/members/sarun-sereewattanawoot\n"
     ]
    },
    {
     "data": {
      "text/html": [
       "<img src=\"https://www.mskcc.org/sites/default/files/styles/width_200_1x1/public/node/225859/main_image/sereewattanawoot-sarun_210519_07-1200x800.jpg?h=10d202d3\" width=\"100\" height=\"100\"/>"
      ],
      "text/plain": [
       "<IPython.core.display.Image object>"
      ]
     },
     "metadata": {},
     "output_type": "display_data"
    },
    {
     "name": "stdout",
     "output_type": "stream",
     "text": [
      "Yanis Tazi\n",
      "Graduate Student, Tri-I Institutional PhD Program\n",
      "/research-areas/labs/members/yanis-tazi\n"
     ]
    },
    {
     "data": {
      "text/html": [
       "<img src=\"https://www.mskcc.org/sites/default/files/styles/width_200_1x1/public/node/207454/main_image/33200958.jpeg\" width=\"100\" height=\"100\"/>"
      ],
      "text/plain": [
       "<IPython.core.display.Image object>"
      ]
     },
     "metadata": {},
     "output_type": "display_data"
    },
    {
     "name": "stdout",
     "output_type": "stream",
     "text": [
      "Seon Ball\n",
      "Administrative Assistant II\n",
      "None\n"
     ]
    },
    {
     "data": {
      "text/html": [
       "<img src=\"https://www.mskcc.org/themes/mskcc/images/placeholder/1x1.svg\" width=\"100\" height=\"100\"/>"
      ],
      "text/plain": [
       "<IPython.core.display.Image object>"
      ]
     },
     "metadata": {},
     "output_type": "display_data"
    },
    {
     "name": "stdout",
     "output_type": "stream",
     "text": [
      "Antonin Berthon\n",
      "Graduate Research Assistant\n",
      "None\n"
     ]
    },
    {
     "data": {
      "text/html": [
       "<img src=\"https://www.mskcc.org/themes/mskcc/images/placeholder/1x1.svg\" width=\"100\" height=\"100\"/>"
      ],
      "text/plain": [
       "<IPython.core.display.Image object>"
      ]
     },
     "metadata": {},
     "output_type": "display_data"
    },
    {
     "name": "stdout",
     "output_type": "stream",
     "text": [
      "Maheetha Bharadwaj\n",
      "Computational Biologist I\n",
      "/research-areas/labs/members/maheetha-bharadwaj\n"
     ]
    },
    {
     "data": {
      "text/html": [
       "<img src=\"https://www.mskcc.org/sites/default/files/styles/width_200_1x1/public/node/147439/3x2/bharadwaj_170926_10_1200x800.jpg?h=10d202d3\" width=\"100\" height=\"100\"/>"
      ],
      "text/plain": [
       "<IPython.core.display.Image object>"
      ]
     },
     "metadata": {},
     "output_type": "display_data"
    },
    {
     "name": "stdout",
     "output_type": "stream",
     "text": [
      "Kelly Bolton\n",
      "Instructor\n",
      "/research-areas/labs/members/kelly-bolton-02\n"
     ]
    },
    {
     "data": {
      "text/html": [
       "<img src=\"https://www.mskcc.org/sites/default/files/styles/width_200_1x1/public/node/150418/3x2/bolton_170926_03.jpg?h=242cd5c8\" width=\"100\" height=\"100\"/>"
      ],
      "text/plain": [
       "<IPython.core.display.Image object>"
      ]
     },
     "metadata": {},
     "output_type": "display_data"
    },
    {
     "name": "stdout",
     "output_type": "stream",
     "text": [
      "Matthieu Cornet\n",
      "Graduate Research Assistant\n",
      "None\n"
     ]
    },
    {
     "data": {
      "text/html": [
       "<img src=\"https://www.mskcc.org/themes/mskcc/images/placeholder/1x1.svg\" width=\"100\" height=\"100\"/>"
      ],
      "text/plain": [
       "<IPython.core.display.Image object>"
      ]
     },
     "metadata": {},
     "output_type": "display_data"
    },
    {
     "name": "stdout",
     "output_type": "stream",
     "text": [
      "Marc Robert de Massy\n",
      "Visiting scientists\n",
      "/research-areas/labs/members/marc-de-massy\n"
     ]
    },
    {
     "data": {
      "text/html": [
       "<img src=\"https://www.mskcc.org/sites/default/files/styles/width_200_1x1/public/node/116524/3x2/marc-robert-de-massy_3x2.jpg\" width=\"100\" height=\"100\"/>"
      ],
      "text/plain": [
       "<IPython.core.display.Image object>"
      ]
     },
     "metadata": {},
     "output_type": "display_data"
    },
    {
     "name": "stdout",
     "output_type": "stream",
     "text": [
      "Andre Deslauriers\n",
      "Graduate Research Assistant\n",
      "/research-areas/labs/members/andre-deslauriers\n"
     ]
    },
    {
     "data": {
      "text/html": [
       "<img src=\"https://www.mskcc.org/sites/default/files/styles/width_200_1x1/public/node/150280/3x2/deslauriers_170926_10_1200x800.jpg?h=10d202d3\" width=\"100\" height=\"100\"/>"
      ],
      "text/plain": [
       "<IPython.core.display.Image object>"
      ]
     },
     "metadata": {},
     "output_type": "display_data"
    },
    {
     "name": "stdout",
     "output_type": "stream",
     "text": [
      "Teng Gao\n",
      "Computational Biologist II\n",
      "/research-areas/labs/members/teng-gao\n"
     ]
    },
    {
     "data": {
      "text/html": [
       "<img src=\"https://www.mskcc.org/sites/default/files/styles/width_200_1x1/public/node/161440/3x2/gao_teng_180611_02_1200x800.jpg?h=10d202d3\" width=\"100\" height=\"100\"/>"
      ],
      "text/plain": [
       "<IPython.core.display.Image object>"
      ]
     },
     "metadata": {},
     "output_type": "display_data"
    },
    {
     "name": "stdout",
     "output_type": "stream",
     "text": [
      "Dominik Glodzik\n",
      "Associate Manger, Computational Biologist\n",
      "None\n"
     ]
    },
    {
     "data": {
      "text/html": [
       "<img src=\"https://www.mskcc.org/sites/default/files/styles/width_200_1x1/public/node/161443/3x2/glodzik_dominik_180611_13_1200x800.jpg?h=10d202d3\" width=\"100\" height=\"100\"/>"
      ],
      "text/plain": [
       "<IPython.core.display.Image object>"
      ]
     },
     "metadata": {},
     "output_type": "display_data"
    },
    {
     "name": "stdout",
     "output_type": "stream",
     "text": [
      "Pierre F. Guilmin\n",
      "Graduate Research Assistant\n",
      "None\n"
     ]
    },
    {
     "data": {
      "text/html": [
       "<img src=\"https://www.mskcc.org/themes/mskcc/images/placeholder/1x1.svg\" width=\"100\" height=\"100\"/>"
      ],
      "text/plain": [
       "<IPython.core.display.Image object>"
      ]
     },
     "metadata": {},
     "output_type": "display_data"
    },
    {
     "name": "stdout",
     "output_type": "stream",
     "text": [
      "Juan Medina\n",
      "Bioinformatics Engineer II, Leukemia Genomics\n",
      "/research-areas/labs/members/juan-medina\n"
     ]
    },
    {
     "data": {
      "text/html": [
       "<img src=\"https://www.mskcc.org/sites/default/files/styles/width_200_1x1/public/node/116518/3x2/median_161213_03_1200x800.jpg?h=10d202d3\" width=\"100\" height=\"100\"/>"
      ],
      "text/plain": [
       "<IPython.core.display.Image object>"
      ]
     },
     "metadata": {},
     "output_type": "display_data"
    },
    {
     "name": "stdout",
     "output_type": "stream",
     "text": [
      "Matahi Moarii\n",
      "Research Fellow\n",
      "/research-areas/labs/members/matahi-moarii\n"
     ]
    },
    {
     "data": {
      "text/html": [
       "<img src=\"https://www.mskcc.org/sites/default/files/styles/width_200_1x1/public/node/116515/3x2/moarii_170926_03_1200x800.jpg?h=10d202d3\" width=\"100\" height=\"100\"/>"
      ],
      "text/plain": [
       "<IPython.core.display.Image object>"
      ]
     },
     "metadata": {},
     "output_type": "display_data"
    },
    {
     "name": "stdout",
     "output_type": "stream",
     "text": [
      "Yoann Pradat\n",
      "Graduate Research Asst\n",
      "None\n"
     ]
    },
    {
     "data": {
      "text/html": [
       "<img src=\"https://www.mskcc.org/sites/default/files/styles/width_200_1x1/public/node/153934/3x2/pradat-yoann_180320_08_1200x800.jpg\" width=\"100\" height=\"100\"/>"
      ],
      "text/plain": [
       "<IPython.core.display.Image object>"
      ]
     },
     "metadata": {},
     "output_type": "display_data"
    },
    {
     "name": "stdout",
     "output_type": "stream",
     "text": [
      "Komal Rathi\n",
      "Bioinformatics Engineer II, Leukemia Genomics\n",
      "/research-areas/labs/members/komal-rathi\n"
     ]
    },
    {
     "data": {
      "text/html": [
       "<img src=\"https://www.mskcc.org/sites/default/files/styles/width_200_1x1/public/node/116521/3x2/komal-rathi_3x2.jpg?h=10d202d3\" width=\"100\" height=\"100\"/>"
      ],
      "text/plain": [
       "<IPython.core.display.Image object>"
      ]
     },
     "metadata": {},
     "output_type": "display_data"
    },
    {
     "name": "stdout",
     "output_type": "stream",
     "text": [
      "Maria Sirenko, PhD\n",
      "Postdoctoral Fellow, NYU Langone, New York, NY, 2016–2023\n",
      "/research-areas/labs/members/maria-sirenko\n"
     ]
    },
    {
     "data": {
      "text/html": [
       "<img src=\"https://www.mskcc.org/sites/default/files/styles/width_200_1x1/public/node/125509/main_image/sirenko_1200x800.jpg\" width=\"100\" height=\"100\"/>"
      ],
      "text/plain": [
       "<IPython.core.display.Image object>"
      ]
     },
     "metadata": {},
     "output_type": "display_data"
    },
    {
     "name": "stdout",
     "output_type": "stream",
     "text": [
      "Yellapantula Venkata\n",
      "Bioinformatics Engineer II\n",
      "/research-areas/labs/members/yellapantula-venkata\n"
     ]
    },
    {
     "data": {
      "text/html": [
       "<img src=\"https://www.mskcc.org/sites/default/files/styles/width_200_1x1/public/node/150286/3x2/yellapantula_170926_02_1200x800.jpg?h=10d202d3\" width=\"100\" height=\"100\"/>"
      ],
      "text/plain": [
       "<IPython.core.display.Image object>"
      ]
     },
     "metadata": {},
     "output_type": "display_data"
    },
    {
     "name": "stdout",
     "output_type": "stream",
     "text": [
      "Elliot Youth\n",
      "Intern\n",
      "None\n"
     ]
    },
    {
     "data": {
      "text/html": [
       "<img src=\"https://www.mskcc.org/sites/default/files/styles/width_200_1x1/public/node/161434/3x2/youth_elliot_180611_06_1200x800.jpg?h=10d202d3\" width=\"100\" height=\"100\"/>"
      ],
      "text/plain": [
       "<IPython.core.display.Image object>"
      ]
     },
     "metadata": {},
     "output_type": "display_data"
    },
    {
     "name": "stdout",
     "output_type": "stream",
     "text": [
      "Yangyu Zhou\n",
      "Bioinformatics Engineer II\n",
      "/research-areas/labs/members/yangyu-zhou\n"
     ]
    },
    {
     "data": {
      "text/html": [
       "<img src=\"https://www.mskcc.org/sites/default/files/styles/width_200_1x1/public/node/150289/3x2/zhou_180103_15_1200x800.jpg?h=10d202d3\" width=\"100\" height=\"100\"/>"
      ],
      "text/plain": [
       "<IPython.core.display.Image object>"
      ]
     },
     "metadata": {},
     "output_type": "display_data"
    }
   ],
   "source": [
    "url = \"https://www.mskcc.org/research-areas/labs/elli-papaemmanuil\"\n",
    "response = requests.get(url)\n",
    "soup = BeautifulSoup(response.text, \"html.parser\")\n",
    "\n",
    "# Parse Members from Lab Website\n",
    "members = []\n",
    "\n",
    "elements = soup.find_all(\"div\", class_=\"lab-member\")\n",
    "for el in elements:\n",
    "    name = el.find(\"div\", class_=\"lab-member__name\").text.strip()\n",
    "    title = el.find(\"div\", class_=\"lab-member__title\").text.strip()\n",
    "    image = el.find(\"div\", class_=\"lab-member__image\")\n",
    "    read_more = el.find(\"div\", class_=\"lab-member__read-more\")\n",
    "    alumni = name not in active\n",
    "\n",
    "    if image:\n",
    "        headshot = image.find(\"img\")[\"src\"]\n",
    "    else:\n",
    "        headshot = \"https://www.mskcc.org/themes/mskcc/images/placeholder/1x1.svg\"\n",
    "        \n",
    "    if read_more:\n",
    "        link = read_more.find(\"a\")[\"href\"]\n",
    "    else:\n",
    "        link = None\n",
    "\n",
    "    # Print Info\n",
    "    print(name)\n",
    "    print(title)\n",
    "    print(link)\n",
    "    display(Image(url= headshot, width=100, height=100))\n",
    "    \n",
    "    members.append({\n",
    "        \"name\": name,\n",
    "        \"description\": title,\n",
    "        \"image\": headshot,\n",
    "        \"link\": link,\n",
    "        \"alumni\": alumni,\n",
    "    })"
   ]
  },
  {
   "cell_type": "code",
   "execution_count": 177,
   "id": "00c7d746-32d2-49e1-a5ec-e3763476a969",
   "metadata": {},
   "outputs": [
    {
     "name": "stdout",
     "output_type": "stream",
     "text": [
      "Getting info from https://mskcc.org/research-areas/labs/members/juan-arango-ossa\n",
      "Getting info from https://mskcc.org/research-areas/labs/members/georgios-asimomitis\n",
      "Getting info from https://mskcc.org/research-areas/labs/members/elsa-bernard\n",
      "Getting info from https://mskcc.org/research-areas/labs/members/dylan-domenico\n",
      "Getting info from https://mskcc.org/research-areas/labs/members/gunes-gundem\n",
      "Getting info from https://mskcc.org/research-areas/labs/members/jesus-gutierrez-abril\n",
      "Getting info from https://mskcc.org/research-areas/labs/members/max-levine\n",
      "Getting info from https://mskcc.org/research-areas/labs/members/joseph-mccarter\n",
      "Getting info from https://mskcc.org/research-areas/labs/members/noushin-rahnamay-farnoud-01\n",
      "Getting info from https://mskcc.org/research-areas/labs/members/jake-sauter\n",
      "Getting info from https://mskcc.org/research-areas/labs/members/sarun-sereewattanawoot\n",
      "Getting info from https://mskcc.org/research-areas/labs/members/yanis-tazi\n",
      "Getting info from https://mskcc.org/research-areas/labs/members/maheetha-bharadwaj\n",
      "Getting info from https://mskcc.org/research-areas/labs/members/kelly-bolton-02\n",
      "Getting info from https://mskcc.org/research-areas/labs/members/marc-de-massy\n",
      "Getting info from https://mskcc.org/research-areas/labs/members/andre-deslauriers\n",
      "Getting info from https://mskcc.org/research-areas/labs/members/teng-gao\n",
      "Getting info from https://mskcc.org/research-areas/labs/members/juan-medina\n",
      "Getting info from https://mskcc.org/research-areas/labs/members/matahi-moarii\n",
      "Getting info from https://mskcc.org/research-areas/labs/members/komal-rathi\n",
      "Getting info from https://mskcc.org/research-areas/labs/members/maria-sirenko\n",
      "Getting info from https://mskcc.org/research-areas/labs/members/yellapantula-venkata\n",
      "Getting info from https://mskcc.org/research-areas/labs/members/yangyu-zhou\n"
     ]
    }
   ],
   "source": [
    "for member in members:\n",
    "    member[\"bio\"] = get_bio(member[\"link\"])"
   ]
  },
  {
   "cell_type": "code",
   "execution_count": 178,
   "id": "68a1d5a9-fcc3-445b-97f2-d7b0938863c2",
   "metadata": {},
   "outputs": [
    {
     "name": "stdout",
     "output_type": "stream",
     "text": [
      "Juan E. Arango-Ossa: arangooj@mskcc.org\n",
      "Georgios Asimomitis: asimomig@mskcc.org\n",
      "Gunes Gundem: gundemg@mskcc.org\n",
      "Max Levine: levinem1@mskcc.org\n",
      "Konstantinos Liosis: liosisk@mskcc.org\n",
      "Joseph G. McCarter: mccartej@mskcc.org\n",
      "Jake Sauter: SauterJ1@mskcc.org\n",
      "Yanis Tazi: taziy@mskcc.org\n",
      "Kelly Bolton: boltonk@mskcc.org\n",
      "Matthieu Cornet: cornetm@mskcc.org\n",
      "Marc Robert de Massy: robertdm@mskcc.org\n",
      "Teng Gao: gaot@mskcc.org\n",
      "Dominik Glodzik: glodzikd@mskcc.org\n",
      "Pierre F. Guilmin: guilminp@mskcc.org\n",
      "Juan Medina: medinaj@mskcc.org\n",
      "Matahi Moarii: moariim@mskcc.org\n",
      "Komal Rathi: rathik@mskcc.org\n",
      "Maria Sirenko, PhD: sirenkom@mskcc.org\n",
      "Elliot Youth: youthe@mskcc.org\n",
      "Yangyu Zhou: zhouy1@mskcc.org\n"
     ]
    }
   ],
   "source": [
    "import isabl_cli as ii\n",
    "import requests\n",
    "import os\n",
    "from dotenv import load_dotenv\n",
    "\n",
    "load_dotenv()\n",
    "\n",
    "def get_email(name):\n",
    "    \"\"\"Find email in isabl database.\"\"\"\n",
    "    search = slugify_name(name).split(\"-\")[1]\n",
    "    url = f\"https://isabl.mskcc.org/api/v1/users?search={search}\"\n",
    "    headers = {\"Authorization\": f\"Token {os.getenv('ISABL_API_TOKEN')}\"}\n",
    "    response = requests.get(\n",
    "        url=url,\n",
    "        verify=False,\n",
    "        headers=headers,\n",
    "    )\n",
    "    if not response.ok:\n",
    "        return \"\"\n",
    "    data = response.json()\n",
    "    if not data[\"count\"]:\n",
    "        return \"\"\n",
    "    email = data[\"results\"][0][\"email\"]\n",
    "    print(f\"{name}: {email}\")\n",
    "    return email\n",
    "\n",
    "for member in members:\n",
    "    member[\"email\"] = get_email(member[\"name\"])"
   ]
  },
  {
   "cell_type": "code",
   "execution_count": 171,
   "id": "5fbb4931-d0a0-40d3-b334-64f3de4cc10d",
   "metadata": {},
   "outputs": [
    {
     "data": {
      "text/plain": [
       "['Juan E. Arango-Ossa',\n",
       " 'Georgios Asimomitis',\n",
       " 'Elsa Bernard',\n",
       " 'Charlotte Brierley',\n",
       " 'Dylan Domenico',\n",
       " 'Gunes Gundem',\n",
       " 'Jesus Gutierrez-Abril',\n",
       " 'Max Levine',\n",
       " 'Konstantinos Liosis',\n",
       " 'Joseph G. McCarter',\n",
       " 'Genesis Pineda',\n",
       " 'Noushin Rahnamay Farnoud',\n",
       " 'Jake Sauter',\n",
       " 'Sarun Sereewattanawoot',\n",
       " 'Yanis Tazi']"
      ]
     },
     "execution_count": 171,
     "metadata": {},
     "output_type": "execute_result"
    }
   ],
   "source": [
    "active"
   ]
  },
  {
   "cell_type": "code",
   "execution_count": 179,
   "id": "fc6b020a-b97b-4b47-8a7d-ee27360f2454",
   "metadata": {},
   "outputs": [
    {
     "name": "stdout",
     "output_type": "stream",
     "text": [
      "Juan E. Arango-Ossa ✅\n",
      "Georgios Asimomitis ✅\n",
      "Elsa Bernard, PhD 🚪\n",
      "Charlotte Brierley ✅\n",
      "Dylan Domenico ✅\n",
      "Gunes Gundem ✅\n",
      "Jesus Gutierrez-Abril ✅\n",
      "Max Levine ✅\n",
      "Konstantinos Liosis ✅\n",
      "Joseph G. McCarter ✅\n",
      "Genesis Pineda ✅\n",
      "Noushin Rahnamay Farnoud ✅\n",
      "Jake Sauter ✅\n",
      "Sarun Sereewattanawoot ✅\n",
      "Yanis Tazi ✅\n",
      "Seon Ball 🚪\n",
      "Antonin Berthon 🚪\n",
      "Maheetha Bharadwaj 🚪\n",
      "Kelly Bolton 🚪\n",
      "Matthieu Cornet 🚪\n",
      "Marc Robert de Massy 🚪\n",
      "Andre Deslauriers 🚪\n",
      "Teng Gao 🚪\n",
      "Dominik Glodzik 🚪\n",
      "Pierre F. Guilmin 🚪\n",
      "Juan Medina 🚪\n",
      "Matahi Moarii 🚪\n",
      "Yoann Pradat 🚪\n",
      "Komal Rathi 🚪\n",
      "Maria Sirenko, PhD 🚪\n",
      "Yellapantula Venkata 🚪\n",
      "Elliot Youth 🚪\n",
      "Yangyu Zhou 🚪\n"
     ]
    }
   ],
   "source": [
    "from slugify import slugify \n",
    "import re\n",
    "\n",
    "def slugify_name(name):\n",
    "    \"\"\"Remove middle name and slugify.\"\"\"\n",
    "    name = re.sub(' [A-Z]*. ', ' ', name)\n",
    "    return slugify(name)\n",
    "\n",
    "for member in members:\n",
    "    name_slug = slugify_name(member[\"name\"])\n",
    "    filename = f\"__members/{name_slug}.md\"\n",
    "    bio = \"\\n\\n\".join([p for p in member[\"bio\"]])\n",
    "    is_alumni = \"\\nalumni: true\\n\" if member[\"alumni\"] else \"\"\n",
    "    print(member[\"name\"], \"✅\" if not member[\"alumni\"] else \"🚪\")\n",
    "    with open(filename, \"wt\") as f:\n",
    "        content = f\"\"\"---\n",
    "            name: {member[\"name\"]}\n",
    "            image: {member[\"image\"]}\n",
    "            description: {member[\"description\"]}{is_alumni}\n",
    "            links:\n",
    "                email: {member[\"email\"]}\n",
    "            ---\n",
    "            \n",
    "            ### {member[\"name\"]}\n",
    "            {{:.left}}\n",
    "            \n",
    "            {bio}  \n",
    "        \"\"\"\n",
    "        f.write(content.replace(\"            \", \"\"))"
   ]
  },
  {
   "cell_type": "code",
   "execution_count": null,
   "id": "12690314-5497-4641-86b4-ea3986624e46",
   "metadata": {},
   "outputs": [],
   "source": []
  }
 ],
 "metadata": {
  "kernelspec": {
   "display_name": "Python 3 (ipykernel)",
   "language": "python",
   "name": "python3"
  },
  "language_info": {
   "codemirror_mode": {
    "name": "ipython",
    "version": 3
   },
   "file_extension": ".py",
   "mimetype": "text/x-python",
   "name": "python",
   "nbconvert_exporter": "python",
   "pygments_lexer": "ipython3",
   "version": "3.11.4"
  }
 },
 "nbformat": 4,
 "nbformat_minor": 5
}
